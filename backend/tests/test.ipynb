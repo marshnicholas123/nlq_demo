{
 "cells": [
  {
   "cell_type": "code",
   "execution_count": 1,
   "id": "c50de0e2",
   "metadata": {},
   "outputs": [
    {
     "ename": "ModuleNotFoundError",
     "evalue": "No module named 'fastapi'",
     "output_type": "error",
     "traceback": [
      "\u001b[0;31m---------------------------------------------------------------------------\u001b[0m",
      "\u001b[0;31mModuleNotFoundError\u001b[0m                       Traceback (most recent call last)",
      "Cell \u001b[0;32mIn[1], line 2\u001b[0m\n\u001b[1;32m      1\u001b[0m \u001b[38;5;28;01mimport\u001b[39;00m\u001b[38;5;250m \u001b[39m\u001b[38;5;21;01mos\u001b[39;00m\n\u001b[0;32m----> 2\u001b[0m \u001b[38;5;28;01mfrom\u001b[39;00m\u001b[38;5;250m \u001b[39m\u001b[38;5;21;01mfastapi\u001b[39;00m\u001b[38;5;21;01m.\u001b[39;00m\u001b[38;5;21;01mtestclient\u001b[39;00m\u001b[38;5;250m \u001b[39m\u001b[38;5;28;01mimport\u001b[39;00m TestClient\n\u001b[1;32m      3\u001b[0m \u001b[38;5;28;01mfrom\u001b[39;00m\u001b[38;5;250m \u001b[39m\u001b[38;5;21;01munittest\u001b[39;00m\u001b[38;5;21;01m.\u001b[39;00m\u001b[38;5;21;01mmock\u001b[39;00m\u001b[38;5;250m \u001b[39m\u001b[38;5;28;01mimport\u001b[39;00m patch\n\u001b[1;32m      5\u001b[0m \u001b[38;5;66;03m# Set environment variables before importing\u001b[39;00m\n",
      "\u001b[0;31mModuleNotFoundError\u001b[0m: No module named 'fastapi'"
     ]
    }
   ],
   "source": [
    "import os\n",
    "from fastapi.testclient import TestClient\n",
    "from unittest.mock import patch\n",
    "\n",
    "# Set environment variables before importing\n",
    "os.environ.update({\n",
    "    \"AWS_REGION\": \"us-east-1\",\n",
    "    \"AWS_ACCESS_KEY_ID\": \"test-key\", \n",
    "    \"AWS_SECRET_ACCESS_KEY\": \"test-secret\",\n",
    "    \"BEDROCK_MODEL_ID\": \"anthropic.claude-3-sonnet-20240229-v1:0\",\n",
    "    \"BEDROCK_KB_ID\": \"test-kb\",\n",
    "    \"MYSQL_HOST\": \"localhost\",\n",
    "    \"MYSQL_PORT\": \"3306\",\n",
    "    \"MYSQL_DATABASE\": \"test_db\",\n",
    "    \"MYSQL_USER\": \"test_user\",\n",
    "    \"MYSQL_PASSWORD\": \"test_password\"\n",
    "})\n"
   ]
  }
 ],
 "metadata": {
  "kernelspec": {
   "display_name": "venv",
   "language": "python",
   "name": "python3"
  },
  "language_info": {
   "codemirror_mode": {
    "name": "ipython",
    "version": 3
   },
   "file_extension": ".py",
   "mimetype": "text/x-python",
   "name": "python",
   "nbconvert_exporter": "python",
   "pygments_lexer": "ipython3",
   "version": "3.9.7"
  }
 },
 "nbformat": 4,
 "nbformat_minor": 5
}
