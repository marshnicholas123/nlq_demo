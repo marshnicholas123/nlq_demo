{
 "cells": [
  {
   "cell_type": "code",
   "execution_count": 1,
   "id": "c50de0e2",
   "metadata": {},
   "outputs": [],
   "source": [
    "import os\n",
    "from fastapi.testclient import TestClient\n",
    "from unittest.mock import patch\n",
    "\n"
   ]
  },
  {
   "cell_type": "code",
   "execution_count": 2,
   "id": "2ba4d1b9",
   "metadata": {},
   "outputs": [
    {
     "data": {
      "text/plain": [
       "'/Users/marshallnicholas/Desktop/text2sql/text2sql_ui/backend'"
      ]
     },
     "execution_count": 2,
     "metadata": {},
     "output_type": "execute_result"
    }
   ],
   "source": [
    "os.chdir(\"..\")\n",
    "os.getcwd()"
   ]
  },
  {
   "cell_type": "code",
   "execution_count": 4,
   "id": "ddb77f0f",
   "metadata": {},
   "outputs": [],
   "source": [
    "from app.main import app\n",
    "\n",
    "client = TestClient(app)"
   ]
  },
  {
   "cell_type": "code",
   "execution_count": 6,
   "id": "4f17152e",
   "metadata": {},
   "outputs": [],
   "source": [
    "mock_sql_result = {\n",
    "        \"sql\": \"SELECT * FROM nuclear_power_plants WHERE status_id = 3\",\n",
    "        \"method\": \"simple\"\n",
    "    }\n",
    "\n",
    "with patch('app.routes.text2sql.simple_service.generate_sql', return_value=mock_sql_result):\n",
    "        response = client.post(\n",
    "            \"/api/text2sql/simple\",\n",
    "            json={\n",
    "                \"query\": \"Show me all operational plants\",\n",
    "                \"execute\": False\n",
    "            }\n",
    "        )"
   ]
  },
  {
   "cell_type": "code",
   "execution_count": 8,
   "id": "6b4e8ba1",
   "metadata": {},
   "outputs": [
    {
     "data": {
      "text/plain": [
       "{'sql': 'SELECT * FROM nuclear_power_plants WHERE status_id = 3',\n",
       " 'method': 'simple',\n",
       " 'session_id': None,\n",
       " 'resolved_query': None,\n",
       " 'context_used': None,\n",
       " 'iterations': None,\n",
       " 'tool_calls': None,\n",
       " 'execution_result': None,\n",
       " 'validation_result': None}"
      ]
     },
     "execution_count": 8,
     "metadata": {},
     "output_type": "execute_result"
    }
   ],
   "source": [
    "response.json()"
   ]
  },
  {
   "cell_type": "code",
   "execution_count": 5,
   "id": "fd713ddd",
   "metadata": {},
   "outputs": [],
   "source": [
    "test_response = client.post(\n",
    "    \"/api/text2sql/simple\",\n",
    "    json={\n",
    "        \"query\": \"Show me all operational plants\",\n",
    "        \"execute\": False\n",
    "    }\n",
    ")"
   ]
  },
  {
   "cell_type": "code",
   "execution_count": 6,
   "id": "f50d7838",
   "metadata": {},
   "outputs": [
    {
     "data": {
      "text/plain": [
       "{'detail': 'Error calling Bedrock: An error occurred (UnrecognizedClientException) when calling the InvokeModel operation: The security token included in the request is invalid.'}"
      ]
     },
     "execution_count": 6,
     "metadata": {},
     "output_type": "execute_result"
    }
   ],
   "source": [
    "test_response.json()"
   ]
  },
  {
   "cell_type": "code",
   "execution_count": 3,
   "id": "53d0b6fe",
   "metadata": {},
   "outputs": [],
   "source": [
    "from app.services.bedrock_client import BedrockClient\n",
    "from app.config import settings"
   ]
  },
  {
   "cell_type": "code",
   "execution_count": null,
   "id": "1704f3ab",
   "metadata": {},
   "outputs": [],
   "source": []
  },
  {
   "cell_type": "code",
   "execution_count": 4,
   "id": "0aca27ff",
   "metadata": {},
   "outputs": [],
   "source": [
    "def test_settings_loaded():\n",
    "    \"\"\"Test that required settings are loaded from .env\"\"\"\n",
    "    # Verify settings exist (but don't assert specific values)\n",
    "    assert settings.aws_region is not None\n",
    "    assert settings.aws_access_key_id is not None\n",
    "    assert settings.bedrock_model_id is not None\n",
    "    assert len(settings.aws_region) > 0\n",
    "    assert len(settings.aws_access_key_id) > 0\n",
    "    assert len(settings.bedrock_model_id) > 0"
   ]
  },
  {
   "cell_type": "code",
   "execution_count": 6,
   "id": "ceaf0b6b",
   "metadata": {},
   "outputs": [],
   "source": [
    "from app.services.bedrock_client import BedrockClient\n",
    "client = BedrockClient()\n",
    "result = client.invoke_model(\n",
    "    prompt=\"Show me all operational nuclear power plants\",\n",
    "    system=\"You are an expert SQL generator for nuclear power plant databases.\",\n",
    "    max_tokens=4000\n",
    ")"
   ]
  },
  {
   "cell_type": "code",
   "execution_count": 7,
   "id": "5a86f36b",
   "metadata": {},
   "outputs": [
    {
     "data": {
      "text/plain": [
       "\"Certainly! To show all operational nuclear power plants, we'll need to query a database that contains information about nuclear power plants. Since I don't have access to the specific database structure you're using, I'll provide a general SQL query that should work with most common database schemas. You may need to adjust the table and column names to match your specific database.\\n\\nHere's a SQL query that should retrieve all operational nuclear power plants:\\n\\n```sql\\nSELECT \\n    plant_name,\\n    location,\\n    reactor_type,\\n    capacity_mw,\\n    operational_since\\nFROM \\n    nuclear_power_plants\\nWHERE \\n    operational_status = 'Operational'\\nORDER BY \\n    capacity_mw DESC;\\n```\\n\\nThis query does the following:\\n\\n1. Selects relevant columns: plant name, location, reactor type, capacity in megawatts, and the date since which the plant has been operational.\\n2. Queries the `nuclear_power_plants` table (adjust this table name if needed).\\n3. Filters for plants with an operational status of 'Operational'.\\n4. Orders the results by capacity in descending order, so the largest plants appear first.\\n\\nIf you need to include additional information or have different column names, you can modify the query accordingly. For example, if you want to include the operator of the plant:\\n\\n```sql\\nSELECT \\n    plant_name,\\n    location,\\n    reactor_type,\\n    capacity_mw,\\n    operational_since,\\n    operator\\nFROM \\n    nuclear_power_plants\\nWHERE \\n    operational_status = 'Operational'\\nORDER BY \\n    capacity_mw DESC;\\n```\\n\\nRemember to adjust the table and column names to match your specific database schema. If you need any modifications or have any questions about the query, please let me know!\""
      ]
     },
     "execution_count": 7,
     "metadata": {},
     "output_type": "execute_result"
    }
   ],
   "source": [
    "result"
   ]
  }
 ],
 "metadata": {
  "kernelspec": {
   "display_name": "base",
   "language": "python",
   "name": "python3"
  },
  "language_info": {
   "codemirror_mode": {
    "name": "ipython",
    "version": 3
   },
   "file_extension": ".py",
   "mimetype": "text/x-python",
   "name": "python",
   "nbconvert_exporter": "python",
   "pygments_lexer": "ipython3",
   "version": "3.9.7"
  }
 },
 "nbformat": 4,
 "nbformat_minor": 5
}
